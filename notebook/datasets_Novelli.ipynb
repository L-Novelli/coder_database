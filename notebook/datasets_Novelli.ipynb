{
 "cells": [
  {
   "cell_type": "code",
   "execution_count": 21,
   "metadata": {},
   "outputs": [
    {
     "name": "stdout",
     "output_type": "stream",
     "text": [
      "      MAL_ID                                Name    Score  \\\n",
      "2425    2639  Dorami-chan: Hello Kyouryuu Kids!!  Unknown   \n",
      "2495    2712       Shiratori Reiko de Gozaimasu!  Unknown   \n",
      "2485    2701                 Susie-chan to Marvy  Unknown   \n",
      "1404    1547                    Obake no Q-tarou  Unknown   \n",
      "2475    2691       Gensei Shugoshin P-hyoro Ikka  Unknown   \n",
      "...      ...                                 ...      ...   \n",
      "2121    2318                         Dog Soldier     3.96   \n",
      "1441    1585                      Spectral Force      3.8   \n",
      "1649    1812                              Hanoka     3.67   \n",
      "1215    1345          Soujuu Senshi Psychic Wars     3.15   \n",
      "387      413                     Hametsu no Mars     2.23   \n",
      "\n",
      "                                           Genres               English name  \\\n",
      "2425                                      Fantasy                    Unknown   \n",
      "2495                              Comedy, Romance  I am THE Shiratori Reiko!   \n",
      "2485                                 Comedy, Kids     Little Susie and Marvy   \n",
      "1404  Comedy, School, Slice of Life, Supernatural                    Unknown   \n",
      "2475                           Adventure, Fantasy                    Unknown   \n",
      "...                                           ...                        ...   \n",
      "2121                     Action, Military, Seinen                    Unknown   \n",
      "1441                              Demons, Fantasy                    Unknown   \n",
      "1649                                       Sci-Fi                    Unknown   \n",
      "1215          Action, Super Power, Demons, Seinen               Psychic Wars   \n",
      "387                                Sci-Fi, Horror        Mars of Destruction   \n",
      "\n",
      "          Japanese name   Type Episodes                         Aired  \\\n",
      "2425  ドラミちゃん ハロー恐竜キッズ!!  Movie        1                   Mar 6, 1993   \n",
      "2495        白鳥麗子でございます！    OVA        1                  Apr 25, 1990   \n",
      "2485       スージーちゃんとマービー     TV      104    Apr 5, 1999 to Feb 3, 2000   \n",
      "1404            オバケのＱ太郎     TV       96  Aug 29, 1965 to Jun 28, 1967   \n",
      "2475      現世守護神　ぴーひょろ一家  Movie        1                   Jul 9, 1988   \n",
      "...                 ...    ...      ...                           ...   \n",
      "2121           ドッグソルジャー    OVA        1                   Oct 8, 1989   \n",
      "1441         スペクトラルフォース    OVA        2  Nov 25, 1998 to Mar 25, 1999   \n",
      "1649        HANOKA～葉ノ香～     TV       12   Aug 8, 2006 to Oct 31, 2006   \n",
      "1215     捜獣戦士サイキック・ウォーズ    OVA        1                  Feb 22, 1991   \n",
      "387              破滅のマルス    OVA        1                   Jul 6, 2005   \n",
      "\n",
      "        Premiered  ... Score-10  Score-9  Score-8 Score-7 Score-6 Score-5  \\\n",
      "2425      Unknown  ...      6.0      3.0      3.0    23.0    30.0    27.0   \n",
      "2495      Unknown  ...      6.0      2.0      2.0    15.0    12.0    20.0   \n",
      "2485  Spring 1999  ...      4.0      4.0  Unknown     8.0     6.0     8.0   \n",
      "1404  Summer 1965  ...      8.0      5.0      6.0    20.0    28.0    31.0   \n",
      "2475      Unknown  ...      5.0  Unknown      2.0     3.0     6.0    14.0   \n",
      "...           ...  ...      ...      ...      ...     ...     ...     ...   \n",
      "2121      Unknown  ...     11.0      8.0     17.0    45.0    68.0   112.0   \n",
      "1441      Unknown  ...     17.0      4.0     16.0    46.0    52.0    85.0   \n",
      "1649  Summer 2006  ...     53.0     16.0     29.0    76.0   121.0   157.0   \n",
      "1215      Unknown  ...     31.0     12.0     24.0    55.0    90.0   123.0   \n",
      "387       Unknown  ...   2438.0    138.0    183.0   275.0   372.0   648.0   \n",
      "\n",
      "     Score-4  Score-3  Score-2  Score-1  \n",
      "2425     8.0      2.0  Unknown      3.0  \n",
      "2495     7.0      1.0      4.0      4.0  \n",
      "2485     6.0      2.0      3.0      3.0  \n",
      "1404     6.0      6.0      2.0     10.0  \n",
      "2475     2.0      4.0      1.0      5.0  \n",
      "...      ...      ...      ...      ...  \n",
      "2121   133.0    159.0    156.0    112.0  \n",
      "1441   100.0    117.0    122.0    172.0  \n",
      "1649   176.0    193.0    311.0    423.0  \n",
      "1215   215.0    260.0    402.0    507.0  \n",
      "387   1199.0   2648.0   7692.0  22048.0  \n",
      "\n",
      "[2499 rows x 35 columns]\n"
     ]
    }
   ],
   "source": [
    "import pandas as pd\n",
    "dataframe = pd.read_csv('https://github.com/L-Novelli/coder_database/blob/master/Datasets/anime.csv')"
   ]
  },
  {
   "attachments": {},
   "cell_type": "markdown",
   "metadata": {},
   "source": [
    "dataset de series deAnime.\n",
    "se usa esta data para generar un analisis sobre cual o cuales son las categorias mas populares, y como estas categorias influenciaron la creacion/publicacion de otras series/peliculas similares para cautivar una audiencia mas grande y poder generar un ingreso mas alto.\n",
    "\n",
    "las variables mas importantes de este dataset es el puntaje promedio ya calculado y en que categoria(s) se encuentra."
   ]
  },
  {
   "cell_type": "code",
   "execution_count": 4,
   "metadata": {},
   "outputs": [],
   "source": [
    "import pandas as pd\n",
    "dataframe = pd.read_csv('https://github.com/L-Novelli/coder_database/blob/master/Datasets/steam_games.csv')"
   ]
  },
  {
   "attachments": {},
   "cell_type": "markdown",
   "metadata": {},
   "source": [
    "dataset de juegos disponibles en Steam.\n",
    "se usa esta data para generar un analisis sobre cual o cuales son los generos mas presentes en Steam, y cuales son las mas jugadas."
   ]
  },
  {
   "cell_type": "code",
   "execution_count": 1,
   "metadata": {},
   "outputs": [
    {
     "name": "stdout",
     "output_type": "stream",
     "text": [
      "(3584, 25)\n"
     ]
    }
   ],
   "source": [
    "import pandas as pd\n",
    "dataframe = pd.read_csv('C:/Users/lnove/Desktop/oec.csv')\n"
   ]
  },
  {
   "attachments": {},
   "cell_type": "markdown",
   "metadata": {},
   "source": [
    "dataset de planetas.\n",
    "se aprovecha la data recolectada para ver cual es el planeta con masa mas grande, mas chica, y la masa promedio de todos los planetas descubiertos hasta el momento"
   ]
  },
  {
   "attachments": {},
   "cell_type": "markdown",
   "metadata": {},
   "source": []
  }
 ],
 "metadata": {
  "kernelspec": {
   "display_name": "Python 3",
   "language": "python",
   "name": "python3"
  },
  "language_info": {
   "codemirror_mode": {
    "name": "ipython",
    "version": 3
   },
   "file_extension": ".py",
   "mimetype": "text/x-python",
   "name": "python",
   "nbconvert_exporter": "python",
   "pygments_lexer": "ipython3",
   "version": "3.10.9"
  },
  "orig_nbformat": 4
 },
 "nbformat": 4,
 "nbformat_minor": 2
}
