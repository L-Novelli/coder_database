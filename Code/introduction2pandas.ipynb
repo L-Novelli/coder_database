{
 "cells": [
  {
   "cell_type": "code",
   "execution_count": 3,
   "metadata": {},
   "outputs": [
    {
     "ename": "TypeError",
     "evalue": "'DataFrame' object is not callable",
     "output_type": "error",
     "traceback": [
      "\u001b[1;31m---------------------------------------------------------------------------\u001b[0m",
      "\u001b[1;31mTypeError\u001b[0m                                 Traceback (most recent call last)",
      "Cell \u001b[1;32mIn[3], line 10\u001b[0m\n\u001b[0;32m      6\u001b[0m df\u001b[39m=\u001b[39m pd\u001b[39m.\u001b[39mread_csv(dt, on_bad_lines \u001b[39m=\u001b[39m \u001b[39m'\u001b[39m\u001b[39mskip\u001b[39m\u001b[39m'\u001b[39m, header \u001b[39m=\u001b[39m \u001b[39mNone\u001b[39;00m)\n\u001b[0;32m      7\u001b[0m df\u001b[39m=\u001b[39m df\u001b[39m.\u001b[39mrename(columns\u001b[39m=\u001b[39m{\u001b[39m0\u001b[39m: \u001b[39m\"\u001b[39m\u001b[39mCar\u001b[39m\u001b[39m\"\u001b[39m, \u001b[39m1\u001b[39m: \u001b[39m\"\u001b[39m\u001b[39mCategory\u001b[39m\u001b[39m\"\u001b[39m, \u001b[39m2\u001b[39m: \u001b[39m\"\u001b[39m\u001b[39mPP\u001b[39m\u001b[39m\"\u001b[39m,\u001b[39m3\u001b[39m:\u001b[39m\"\u001b[39m\u001b[39mTransmision\u001b[39m\u001b[39m\"\u001b[39m,\u001b[39m4\u001b[39m:\u001b[39m\"\u001b[39m\u001b[39mColl\u001b[39m\u001b[39m\"\u001b[39m,\u001b[39m5\u001b[39m:\u001b[39m\"\u001b[39m\u001b[39mPrice\u001b[39m\u001b[39m\"\u001b[39m,\u001b[39m6\u001b[39m:\u001b[39m\"\u001b[39m\u001b[39mHP\u001b[39m\u001b[39m\"\u001b[39m,\u001b[39m7\u001b[39m:\u001b[39m\"\u001b[39m\u001b[39mWeight(LBS)\u001b[39m\u001b[39m\"\u001b[39m,\u001b[39m8\u001b[39m:\u001b[39m\"\u001b[39m\u001b[39mkg/kw\u001b[39m\u001b[39m\"\u001b[39m,})\n\u001b[1;32m---> 10\u001b[0m df()\n",
      "\u001b[1;31mTypeError\u001b[0m: 'DataFrame' object is not callable"
     ]
    }
   ],
   "source": [
    "import pandas as pd\n",
    "import numpy as np\n",
    "\n",
    "dt='./GT7_JDM_Cars.csv'\n",
    "\n",
    "df= pd.read_csv(dt, on_bad_lines = 'skip', header = None)\n",
    "df= df.rename(columns={0: \"Car\", 1: \"Category\", 2: \"PP\",3:\"Transmision\",4:\"Coll\",5:\"Price\",6:\"HP\",7:\"Weight(LBS)\",8:\"kg/kw\",})\n",
    "\n",
    "\n",
    "print(df)"
   ]
  }
 ],
 "metadata": {
  "kernelspec": {
   "display_name": "Python 3",
   "language": "python",
   "name": "python3"
  },
  "language_info": {
   "codemirror_mode": {
    "name": "ipython",
    "version": 3
   },
   "file_extension": ".py",
   "mimetype": "text/x-python",
   "name": "python",
   "nbconvert_exporter": "python",
   "pygments_lexer": "ipython3",
   "version": "3.10.9"
  },
  "orig_nbformat": 4
 },
 "nbformat": 4,
 "nbformat_minor": 2
}
