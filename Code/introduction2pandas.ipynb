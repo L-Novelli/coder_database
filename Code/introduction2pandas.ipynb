{
 "cells": [
  {
   "cell_type": "code",
   "execution_count": 47,
   "metadata": {},
   "outputs": [
    {
     "name": "stdout",
     "output_type": "stream",
     "text": [
      "                             Car                                 Category  \\\n",
      "0           Greddy Greddy Fugu Z  Gran Turismo Award|Professionally Tuned   \n",
      "1    Honda 2&4 powered by RC213V             Concept Car|Midship|Road Car   \n",
      "2                 Honda Beat '91                 Kei Car|Midship|Road Car   \n",
      "3    Honda Civic Type R (EK) '97                                 Road Car   \n",
      "4    Honda Civic Type R (EK) '98                                 Road Car   \n",
      "..                           ...                                      ...   \n",
      "129       Toyota Supra GT500 '97                         GT500|Racing Car   \n",
      "130          Toyota Supra RZ '97                                 Road Car   \n",
      "131      Toyota TS030 Hybrid '12    Hybrid Car|Le Mans|Midship|Racing Car   \n",
      "132    Toyota TS050 - Hybrid '16    Hybrid Car|Le Mans|Midship|Racing Car   \n",
      "133    Toyota Tundra TRD Pro '19                    Pickup Truck|Road Car   \n",
      "\n",
      "         PP Transmision      Coll         Price   HP  Weight(LBS)        kg/kw  \n",
      "0    PP 542          FR   300 pts    300,000 Cr  294       2425.0   3.74 Kg/Hp  \n",
      "1    PP 555          MR  1000 pts  1,000,000 Cr  211        893.0   1.92 Kg/Hp  \n",
      "2    PP 310          MR     0 pts          0 Cr   64       1676.0  11.88 Kg/Hp  \n",
      "3    PP 413          FF    51 pts    ≈51,200 Cr  176       2315.0   5.97 Kg/Hp  \n",
      "4    PP 414          FF    35 pts    ≈35,000 Cr  181       2315.0   5.80 Kg/Hp  \n",
      "..      ...         ...       ...           ...  ...          ...          ...  \n",
      "129  PP 729          FR  1500 pts  1,500,000 Cr  492       2535.0   2.34 Kg/Hp  \n",
      "130  PP 500          FR   220 pts   ≈220,000 Cr  330       3329.0   4.58 Kg/Hp  \n",
      "131  PP 917          MR  1000 pts  1,000,000 Cr  529       1984.0   1.70 Kg/Hp  \n",
      "132  PP 927         4WD  1000 pts  1,000,000 Cr  493       1929.0   1.77 Kg/Hp  \n",
      "133  PP 400         4WD    62 pts     62,000 Cr  379       5633.0   6.74 Kg/Hp  \n",
      "\n",
      "[134 rows x 9 columns]\n"
     ]
    }
   ],
   "source": [
    "import pandas as pd\n",
    "import numpy as np\n",
    "\n",
    "dt = './GT7_JDM_Cars.csv'\n",
    "\n",
    "df = pd.read_csv(dt, on_bad_lines = 'skip', header = None)\n",
    "df = df.rename(columns = {0: \"Car\", 1: \"Category\", 2: \"PP\",3:\"Transmision\",4:\"Coll\",5:\"Price\",6:\"HP\",7:\"Weight(LBS)\",8:\"kg/kw\",})\n",
    "\n",
    "print(df)"
   ]
  },
  {
   "cell_type": "code",
   "execution_count": 48,
   "metadata": {},
   "outputs": [
    {
     "name": "stdout",
     "output_type": "stream",
     "text": [
      "0      294\n",
      "1      211\n",
      "2       64\n",
      "3      176\n",
      "4      181\n",
      "      ... \n",
      "129    492\n",
      "130    330\n",
      "131    529\n",
      "132    493\n",
      "133    379\n",
      "Name: HP, Length: 134, dtype: int64\n"
     ]
    }
   ],
   "source": [
    "print(df[\"HP\"])"
   ]
  },
  {
   "cell_type": "code",
   "execution_count": 53,
   "metadata": {},
   "outputs": [
    {
     "name": "stdout",
     "output_type": "stream",
     "text": [
      "there is an average of  340.4850746268657 HP within all JDM cars in GT7\n"
     ]
    }
   ],
   "source": [
    "hp = df[\"HP\"].astype(float)\n",
    "hp = df[\"HP\"].mean()\n",
    "print('there is an average of', hp, 'HP within all JDM cars in GT7')\n"
   ]
  }
 ],
 "metadata": {
  "kernelspec": {
   "display_name": "Python 3",
   "language": "python",
   "name": "python3"
  },
  "language_info": {
   "codemirror_mode": {
    "name": "ipython",
    "version": 3
   },
   "file_extension": ".py",
   "mimetype": "text/x-python",
   "name": "python",
   "nbconvert_exporter": "python",
   "pygments_lexer": "ipython3",
   "version": "3.10.9"
  },
  "orig_nbformat": 4
 },
 "nbformat": 4,
 "nbformat_minor": 2
}
